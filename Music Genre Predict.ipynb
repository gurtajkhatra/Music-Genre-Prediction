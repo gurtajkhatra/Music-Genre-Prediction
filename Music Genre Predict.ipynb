{
 "cells": [
  {
   "cell_type": "markdown",
   "metadata": {
    "run_control": {
     "breakpoint": false
    }
   },
   "source": [
    "## Music Genre Classificaion\n",
    "\n",
    "First, we are going to extract some features about the timbre from our dataset. The features we are pulling out are:\n",
    "\n",
    "* Spectral Flux - The rate of which the power spectrum is changing. Calculated by taking the euclidian distance between the current frame and the previous frame\n",
    "* Zero Crossing Rate - The rate at which the signal changes from positive to negative and vice versa. It is commonly used in speech recognition.\n",
    "* Low Energy Feature - The percentage of analysis windows that have less root mean square energy than the average RMS energy across the texture window. The reason we use this for this is that the RMS is decent way to approximate loudness, so music with gaps of silence will have a lower percentage than continuous music which would have a higher percentage\n",
    "* Spectral Centroid - Indicates where the center of mass of the spectrum is, and it is commonly associated with the \"brightness\" of a sound\n",
    "* Mel-frequency cepstrum coefficients - Another commonly used feature in speech recognition, these are the coefficients of a representation of the power spectrum of the audio\n"
   ]
  },
  {
   "cell_type": "code",
   "execution_count": 49,
   "metadata": {
    "collapsed": true,
    "run_control": {
     "breakpoint": false
    }
   },
   "outputs": [],
   "source": [
    "from pymir import SpectralFlux\n",
    "import numpy as np\n",
    "import math\n",
    "import glob\n",
    "import os\n",
    "import pymir\n",
    "\n",
    "\"\"\"Used to extract the necessary features for training from a directory of mp3 files\"\"\"\n",
    "centroidCol = 0\n",
    "stdcentroidCol = 1\n",
    "rolloffCol = 2\n",
    "stdrolloffCol = 3\n",
    "fluxCol = 4\n",
    "stdfluxCol = 5\n",
    "zcrCol = 6\n",
    "stdzcrCol = 7\n",
    "lowEnergyCol = 8\n",
    "#mfcc's are in columns 9-13\n",
    "mfccStartCol = 9\n",
    "stdmfccStartCol = 14\n",
    "\n",
    "#Slightly Modified version of pymir's spectralFlux function\n",
    "def spectralFlux(spectra):\n",
    "    \"\"\"\n",
    "    Compute the spectral flux between consecutive spectra to reflect the papers implementation\n",
    "    \"\"\"\n",
    "    spectralFlux = []\n",
    "    # Compute flux for zeroth spectrum\n",
    "    flux = 0\n",
    "    for bin in spectra[0]:\n",
    "        flux = flux + abs(bin)\n",
    "      \n",
    "    spectralFlux.append(flux)\n",
    "    \n",
    "    # Compute flux for subsequent spectra\n",
    "    for s in range(1, len(spectra)):\n",
    "        prevSpectrum = spectra[s - 1]\n",
    "        spectrum = spectra[s]\n",
    "        \n",
    "        flux = 0\n",
    "        for bin in range(0, len(spectrum)):\n",
    "            diff = spectrum[bin] - prevSpectrum[bin]\n",
    "            diff = pow(diff,2)\n",
    "            flux = flux + diff\n",
    "            \n",
    "        spectralFlux.append(flux)\n",
    "        \n",
    "    return spectralFlux\n",
    "\n",
    "#Slightly Modified version of pymir's zcr function\n",
    "def zcr(fixedFrame):\n",
    "    \"\"\"\n",
    "    Compute the Zero-crossing rate (ZCR)\n",
    "    \"\"\"\n",
    "    zcr = 0\n",
    "    for i in range(1, len(fixedFrame)):\n",
    "        if (fixedFrame[i - 1] * fixedFrame[i]) < 0:\n",
    "            zcr = zcr + 1\n",
    "\n",
    "    return zcr / (2.0)\n",
    "\n",
    "#Calculate Low Energy Feature - The percentage of analysis windows that \n",
    "#have less RMS energy than the average RMS energy across the texture window\n",
    "def lef(textureWindow):\n",
    "    rmsVals = []\n",
    "    for window in textureWindow:\n",
    "        e = window.energy()\n",
    "        rms = 0\n",
    "        for n in e:\n",
    "            rms = (rms + pow(n,2))\n",
    "        rmsVals.append(math.sqrt(rms/len(e)))\n",
    "    avgRMSEnergy = np.sum(rmsVals)/(len(rmsVals))\n",
    "    lessRMSCount = 0\n",
    "    for rms in rmsVals:\n",
    "        if rms < avgRMSEnergy:\n",
    "            lessRMSCount += 1\n",
    "    return lessRMSCount/(len(rmsVals)*1.0)\n",
    "\n",
    "# The means and standard deviations of these features are calculated over a \"texture\" window of 1 second consisting \n",
    "#of 40 \"analysis\" windows of 20 milliseconds (512 samples at sampleRate=22050 sampling rate)\n",
    "def getTimbreData(fileData):\n",
    "    analysisWindowSize = 512\n",
    "    analysisWindowsPerTextureWindow = 43\n",
    "    fixedFrames = fileData.frames(analysisWindowSize)\n",
    "    numFrames = len(fixedFrames)\n",
    "    audioData = np.zeros(shape = (math.floor(numFrames/(analysisWindowsPerTextureWindow*1.0)) ,19))\n",
    "    adIndexCount = 0\n",
    "    spectra = [f.spectrum() for f in fixedFrames]\n",
    "    flux = spectralFlux(spectra)\n",
    "    centroids = []\n",
    "    rolloffs = []\n",
    "    fluxs = []\n",
    "    zcrs = []\n",
    "    mfccs = [[],[],[],[],[]]\n",
    "    \n",
    "    for x in range(0,numFrames):\n",
    "        #At the end of a Texture Window, so add the values to the audioData matrix\n",
    "        if (x%analysisWindowsPerTextureWindow == 0 and x!=0):\n",
    "            audioData[adIndexCount][centroidCol] = np.sum(centroids)/len(centroids)\n",
    "            audioData[adIndexCount][stdcentroidCol] = np.std(centroids)\n",
    "            audioData[adIndexCount][rolloffCol] = np.sum(rolloffs)/len(rolloffs)\n",
    "            audioData[adIndexCount][stdrolloffCol] = np.std(rolloffs)\n",
    "            audioData[adIndexCount][fluxCol] = np.sum(fluxs)/len(fluxs)\n",
    "            audioData[adIndexCount][stdfluxCol] = np.std(fluxs)\n",
    "            audioData[adIndexCount][zcrCol] = np.sum(zcrs)/len(zcrs)\n",
    "            audioData[adIndexCount][stdzcrCol] = np.std(zcrs)\n",
    "            \n",
    "            for z in range(0,5):\n",
    "                audioData[adIndexCount][mfccStartCol+z] = np.sum(mfccs[z])/len(mfccs[z])\n",
    "                audioData[adIndexCount][stdmfccStartCol+z] = np.std(mfccs[z])\n",
    "            audioData[adIndexCount][lowEnergyCol] = lef(fixedFrames[(x-analysisWindowsPerTextureWindow):x])\n",
    "\n",
    "            adIndexCount = adIndexCount+1\n",
    "            centroids = []\n",
    "            rolloffs = []\n",
    "            fluxs = []\n",
    "            zcrs = []\n",
    "            mfccs = [[],[],[],[],[]]\n",
    "        subSpectra = spectra[x]\n",
    "        fixedFrame = fixedFrames[x]\n",
    "        centroids.append(subSpectra.centroid())\n",
    "        rolloffs.append(subSpectra.rolloff())\n",
    "        fluxs.append(flux[x])\n",
    "        zcrs.append(zcr(fixedFrame))\n",
    "        #Calculate first 5 Mel-Frequency Cepstral Coefficients\n",
    "        tempMFCC = subSpectra.mfcc2(numFilters = 6)\n",
    "        \n",
    "        for y in range(0,5):\n",
    "            #mfccs[y].append(subSpectra.mfcc(y+1,NumFilters = 6))\n",
    "            mfccs[y].append(tempMFCC[y+1])\n",
    "        \n",
    "    return audioData"
   ]
  },
  {
   "cell_type": "markdown",
   "metadata": {
    "run_control": {
     "breakpoint": false
    }
   },
   "source": [
    "Now that we have all of the code for data extraction, we can move on to actually pulling the data out of our mp3 files. The dataset I am using can be found here:http://marsyasweb.appspot.com/download/data_sets/ . We are going to save the data as we go, so we don't need to waste time analyzing the mp3 files again later on:\n"
   ]
  },
  {
   "cell_type": "code",
   "execution_count": null,
   "metadata": {
    "collapsed": false,
    "run_control": {
     "breakpoint": false
    }
   },
   "outputs": [],
   "source": [
    "mp3DataFilePath = \"/Users/Gurtaj/Downloads/mp3SampleAudio\"\n",
    "#mp3DataFilePath = \"/mp3SampleAudio\"\n",
    "dataSavePath = \"/Users/Gurtaj/Dropbox/mp3numpyData\"\n",
    "genres = os.listdir(mp3DataFilePath)\n",
    "print \"Examining MP3 files and extracting data\"\n",
    "for genre in genres:\n",
    "    print \"Looking at the data for the genre: \" + genre\n",
    "    for fname in glob.glob(mp3DataFilePath + \"/\" + genre + \"/*.mp3\"):\n",
    "        print fname\n",
    "        ad = getTimbreData(pymir.AudioFile.open(fname,sampleRate=22050))\n",
    "        np.save(dataSavePath + \"/\" + genre + \"/\" + os.path.basename(fname)[0:-4] + \".npy\", ad)\n",
    "       "
   ]
  },
  {
   "cell_type": "markdown",
   "metadata": {
    "run_control": {
     "breakpoint": false
    }
   },
   "source": [
    "Now that we have some data to work with, lets just try out some classification algorithms with the raw data just to see what kind of accuracy we get. First, we read the data back in:"
   ]
  },
  {
   "cell_type": "code",
   "execution_count": 50,
   "metadata": {
    "collapsed": false,
    "run_control": {
     "breakpoint": false
    }
   },
   "outputs": [],
   "source": [
    "import sklearn.cross_validation as cv\n",
    "\n",
    "#Reading the data\n",
    "npyDataFilePath = \"/Users/Gurtaj/Dropbox/mp3numpyData2/\"\n",
    "genres = os.listdir(npyDataFilePath)\n",
    "\n",
    "X = []\n",
    "y = []\n",
    "\n",
    "for genre in genres:\n",
    "    genreRange = [len(X)]\n",
    "    for fname in glob.glob(npyDataFilePath + \"/\" + genre + \"/*.npy\"):\n",
    "        npArr = np.load(fname)\n",
    "        #for arr in npArr:\n",
    "        if(not np.isnan(npArr).any()):  \n",
    "            X.append(npArr)\n",
    "            y.append(genre)\n",
    "    genreRange.append(len(X))\n",
    "\n",
    "\n",
    "#Normalize the data\n",
    "X /= np.max(np.abs(X),axis=0)\n",
    "\n"
   ]
  },
  {
   "cell_type": "markdown",
   "metadata": {
    "run_control": {
     "breakpoint": false
    }
   },
   "source": [
    "Our algorithm works by predicting the genres of each of the small windows we break the song into, and takes the largest subset of genres as the genre of the song."
   ]
  },
  {
   "cell_type": "code",
   "execution_count": 147,
   "metadata": {
    "collapsed": false,
    "run_control": {
     "breakpoint": false
    }
   },
   "outputs": [],
   "source": [
    "import sklearn.linear_model as lm\n",
    "\n",
    "def trainModel(clf, X, y):\n",
    "    #X_train_songs is an array of songs, made up of texture windows, which are made of up of the acutal data\n",
    "    X_Windows = []\n",
    "    y_Windows = []\n",
    "    for songNum in range(0, len(X)):\n",
    "        for window in X[songNum]:\n",
    "            X_Windows.append(window)\n",
    "            y_Windows.append(y[songNum])\n",
    "    clf.fit(X_Windows, y_Windows)\n",
    "    return clf\n",
    "    \n",
    "def testAlgo( clf, X, y ):\n",
    "    kf = cv.KFold(n=len(X), n_folds=10, shuffle=True)\n",
    "    accuracies = []\n",
    "    X = np.array(X)\n",
    "    y = np.array(y)\n",
    "    \n",
    "    for train_index, test_index in kf:\n",
    "        fclf = clf\n",
    "        X_train_songs, X_test = X[train_index], X[test_index]\n",
    "        y_train_songs, y_test = y[train_index], y[test_index]\n",
    "\n",
    "        #X_train_songs is an array of songs, made up of texture windows, which are made of up of the acutal data\n",
    "        clf = trainModel(clf, X_train_songs, y_train_songs)\n",
    "        #Check accuracy\n",
    "        correct = 0\n",
    "        for song in range(0, len(X_test)):\n",
    "            genresGuesses = list(fclf.predict(X_test[song]))\n",
    "\n",
    "            genreGuess = max( set(genresGuesses), key=genresGuesses.count )\n",
    "            if genreGuess == y_test[song]:\n",
    "                correct += 1\n",
    "\n",
    "        accuracies.append(correct/(len(X_test)*1.0))\n",
    "    return np.array(accuracies)"
   ]
  },
  {
   "cell_type": "markdown",
   "metadata": {
    "run_control": {
     "breakpoint": false
    }
   },
   "source": [
    "We can just try out some simple classification algorithms to get a good idea about where we stand. First we are going to try some logistic regression:"
   ]
  },
  {
   "cell_type": "code",
   "execution_count": 148,
   "metadata": {
    "collapsed": false,
    "run_control": {
     "breakpoint": false
    }
   },
   "outputs": [
    {
     "name": "stdout",
     "output_type": "stream",
     "text": [
      "Logistic Regression Accuracy: 0.48 (+/- 0.12)\n"
     ]
    }
   ],
   "source": [
    "scores = testAlgo( lm.LogisticRegression(), X, y )\n",
    "print \"Logistic Regression Accuracy: %0.2f (+/- %0.2f)\" % (scores.mean(), scores.std() * 2)"
   ]
  },
  {
   "cell_type": "markdown",
   "metadata": {
    "run_control": {
     "breakpoint": false
    }
   },
   "source": [
    "\n",
    "How about a Support Vector Machine:"
   ]
  },
  {
   "cell_type": "code",
   "execution_count": 31,
   "metadata": {
    "collapsed": false,
    "run_control": {
     "breakpoint": false
    }
   },
   "outputs": [
    {
     "name": "stdout",
     "output_type": "stream",
     "text": [
      "SVC Accuracy: 0.48 (+/- 0.10)\n"
     ]
    }
   ],
   "source": [
    "from sklearn import svm\n",
    "\n",
    "svm = svm.SVC()\n",
    "svm = testAlgo( svm, X, y )\n",
    "\n",
    "print \"SVC Accuracy: %0.2f (+/- %0.2f)\" % (scores.mean(), scores.std() * 2)"
   ]
  },
  {
   "cell_type": "markdown",
   "metadata": {
    "run_control": {
     "breakpoint": false
    }
   },
   "source": [
    "\n",
    "And finally lets try using a Random Forest:"
   ]
  },
  {
   "cell_type": "code",
   "execution_count": 130,
   "metadata": {
    "collapsed": false,
    "run_control": {
     "breakpoint": false
    }
   },
   "outputs": [
    {
     "name": "stdout",
     "output_type": "stream",
     "text": [
      "Random Forest Accuracy: 0.58 (+/- 0.08)\n"
     ]
    }
   ],
   "source": [
    "rfc = RandomForestClassifier(oob_score=True, )\n",
    "\n",
    "scores = testAlgo( rfc, X, y )\n",
    "print \"Random Forest Accuracy: %0.2f (+/- %0.2f)\" % (scores.mean(), scores.std() * 2)"
   ]
  },
  {
   "cell_type": "code",
   "execution_count": 151,
   "metadata": {
    "collapsed": false,
    "run_control": {
     "breakpoint": false
    }
   },
   "outputs": [
    {
     "data": {
      "image/png": "[encoded data removed]",
      "text/plain": [
       "<matplotlib.figure.Figure at 0x10f6ce7d0>"
      ]
     },
     "metadata": {},
     "output_type": "display_data"
    }
   ],
   "source": [
    "from sklearn.metrics import confusion_matrix\n",
    "\n",
    "def plot_confusion_matrix(cm, title='Confusion matrix', cmap=plt.cm.Blues):\n",
    "    plt.imshow(cm, interpolation='nearest', cmap=cmap)\n",
    "    plt.title(title)\n",
    "    plt.colorbar()\n",
    "    tick_marks = np.arange(len(genres))\n",
    "    plt.xticks(tick_marks, genres, rotation=45)\n",
    "    plt.yticks(tick_marks, genres)\n",
    "    plt.tight_layout()\n",
    "    plt.ylabel('True label')\n",
    "    plt.xlabel('Predicted label')\n",
    "\n",
    "X_train, X_test, y_train, y_test  = cv.train_test_split(X,y, test_size = 0.1)\n",
    "\n",
    "\n",
    "rfc = trainModel(rfc,X_train, y_train)\n",
    "\"\"\"X_Windows = []\n",
    "y_Windows = []\n",
    "for song in range(0, len(X_train)):\n",
    "    for window in X_train[song]:\n",
    "        X_Windows.append(window)\n",
    "        y_Windows.append(y_train[song])\n",
    "\n",
    "rfc.fit(X_Windows, y_Windows)\"\"\"\n",
    "\n",
    "y_pred = []\n",
    "correct = 0\n",
    "for song in range(0, len(X_test)):\n",
    "    genresGuesses = list(rfc.predict(X_test[song]))\n",
    "    genreGuess = max( set(genresGuesses), key=genresGuesses.count )\n",
    "    y_pred.append(genreGuess)\n",
    "cm = confusion_matrix(y_test, y_pred)\n",
    "plot_confusion_matrix(cm)"
   ]
  },
  {
   "cell_type": "code",
   "execution_count": 159,
   "metadata": {
    "collapsed": false,
    "run_control": {
     "breakpoint": false
    }
   },
   "outputs": [
    {
     "name": "stdout",
     "output_type": "stream",
     "text": [
      "stdfluxCol: 0.114452006399\n",
      "rolloffCol: 0.0782778625187\n",
      "stdrolloffCol: 0.0682167746498\n",
      "zcrCol: 0.0679607614432\n",
      "stdzcrCol: 0.0652020187306\n",
      "centroidCol: 0.0636555469445\n",
      "stdcentroidCol: 0.0629448035608\n",
      "stdmfccStartCol3: 0.0622316708086\n",
      "lowEnergyCol: 0.0509888984815\n",
      "fluxCol: 0.0488029923091\n",
      "mfccStartCol3: 0.0403536234418\n",
      "mfccStartCol2: 0.0382259421086\n",
      "mfccStartCol4: 0.0375001499434\n",
      "mfccStartCol1: 0.0355009585879\n",
      "mfccStartCol5: 0.0344767836586\n",
      "stdmfccStartCol5: 0.0342039470697\n",
      "stdmfccStartCol4: 0.0332640614586\n",
      "stdmfccStartCol2: 0.0321557257418\n",
      "stdmfccStartCol1: 0.0315854721437\n"
     ]
    }
   ],
   "source": [
    "importances = rfc.feature_importances_\n",
    "features = [\"centroidCol\",\"stdcentroidCol\",\"rolloffCol\",\"stdrolloffCol\",\"fluxCol\",\"stdfluxCol\",\"zcrCol\",\"stdzcrCol\",\"lowEnergyCol\",\"mfccStartCol1\",\"mfccStartCol2\",\"mfccStartCol3\",\"mfccStartCol4\",\"mfccStartCol5\",\"stdmfccStartCol1\",\"stdmfccStartCol2\",\"stdmfccStartCol3\",\"stdmfccStartCol4\",\"stdmfccStartCol5\"]\n",
    "\n",
    "feature_importances = []\n",
    "for a in range(0,len(features)):\n",
    "#    feature_importances[features[a]] = importances[a]\n",
    "    feature_importances.append( [features[a], str(importances[a]) ] )\n",
    "    \n",
    "feature_importances.sort(key=lambda x:x[1],reverse=True)\n",
    "for a in feature_importances:\n",
    "    print a[0] + \": \" + a[1]"
   ]
  },
  {
   "cell_type": "markdown",
   "metadata": {
    "run_control": {
     "breakpoint": false
    }
   },
   "source": [
    "\n",
    "Right now, the accuracy of all of the algorithms are not great across the board. Lets inspect the data more to see if we can diagnose the problem, starting by looking at the learning curves:\n"
   ]
  },
  {
   "cell_type": "code",
   "execution_count": 119,
   "metadata": {
    "collapsed": false,
    "run_control": {
     "breakpoint": false
    }
   },
   "outputs": [],
   "source": [
    "#Looking at the learning curve\n",
    "%matplotlib inline\n",
    "from sklearn.learning_curve import learning_curve\n",
    "import matplotlib.pyplot as plt\n",
    "\n",
    "def plotLearningCurve(clf, X1,y1 ):\n",
    "    plt.figure()\n",
    "    plt.xlabel(\"Training Examples\")\n",
    "    plt.ylabel(\"Score\")\n",
    "    train_sizes, train_scores, cv_scores = learning_curve(clf, X1, y1, train_sizes=np.linspace(0.25, 1.0, 6), cv=5)\n",
    "    train_scores_mean = np.mean(train_scores, axis=1)\n",
    "    train_scores_std = np.std(train_scores, axis=1)\n",
    "    cv_scores_mean = np.mean(cv_scores, axis=1)\n",
    "    cv_scores_std = np.std(cv_scores, axis=1)\n",
    "    plt.fill_between(train_sizes, train_scores_mean-train_scores_std, train_scores_mean + train_scores_std, alpha = 0.1)\n",
    "    plt.fill_between(train_sizes, cv_scores_mean-cv_scores_std, cv_scores_mean + cv_scores_std, alpha = 0.1)\n",
    "    plt.plot(train_sizes, train_scores_mean, 'o-', color=\"r\",\n",
    "             label=\"Training score\")\n",
    "    plt.plot(train_sizes, cv_scores_mean, 'o-', color=\"g\",\n",
    "             label=\"CV score\")\n",
    "    plt.legend(loc=\"best\")\n",
    "    return plt"
   ]
  },
  {
   "cell_type": "code",
   "execution_count": 120,
   "metadata": {
    "collapsed": false,
    "run_control": {
     "breakpoint": true
    }
   },
   "outputs": [
    {
     "name": "stdout",
     "output_type": "stream",
     "text": [
      "Logistic Regression Learning Curve\n"
     ]
    },
    {
     "data": {
      "image/png": "[encoded data removed]",
      "text/plain": [
       "<matplotlib.figure.Figure at 0x11cca4690>"
      ]
     },
     "metadata": {},
     "output_type": "display_data"
    }
   ],
   "source": [
    "\n",
    "      \n",
    "plotLearningCurve(logReg, X_Windows, y_Windows)\n",
    "print \"Logistic Regression Learning Curve\""
   ]
  },
  {
   "cell_type": "markdown",
   "metadata": {
    "run_control": {
     "breakpoint": false
    }
   },
   "source": [
    "The training score and cross validation score look like they are converging as the number of elements in our training set increases. This means that adding more data won't fix the problem, and the root of the problem lies with the algorithm having a high bias. We could try to fix this by extracting some more features from our dataset. Lets add some information about the rhythm:"
   ]
  },
  {
   "cell_type": "code",
   "execution_count": 54,
   "metadata": {
    "collapsed": true,
    "run_control": {
     "breakpoint": false
    }
   },
   "outputs": [],
   "source": [
    "import pywt\n",
    "\n",
    "def discreteWaveletTransform(data):\n",
    "    cA, cD = pywt.dwt(data, 'db4')\n",
    "    return cA\n",
    "\n",
    "def lowPassFilter(data):\n",
    "    alpha = 0.99\n",
    "    data[0] = (1-alpha)*(data[0])\n",
    "    \n",
    "    for x in range(1,len(data)):\n",
    "        data[x] = (1-alpha)*(data[x]) + (alpha*data[x-1])\n",
    "    return data\n",
    "\n",
    "def downSample(data):\n",
    "    downSampleBy = 16\n",
    "    newData = np.empty([len(data)/16])\n",
    "    lenData = len(newData)\n",
    "    for x in range(0,lenData):\n",
    "        newData[x] = data[x*downSampleBy]\n",
    "    return newData\n",
    "\n",
    "def meanRemoval(data):\n",
    "    mean = np.mean(data)\n",
    "    for x in range(0,len(data)):\n",
    "        data[x] = data[x] - mean\n",
    "    return data\n",
    "\n",
    "\n",
    "def autocorrelation(data, numPeaks):\n",
    "    newData = np.empty([len(data)])\n",
    "    lenData = len(data)\n",
    "    peaks = []\n",
    "    lastIntercept = 0\n",
    "    for k in range(0, lenData):\n",
    "        corr = 0\n",
    "        for n in range(k,lenData):\n",
    "            corr += data[n]*data[n-k]\n",
    "        \n",
    "        newData[k] = corr/(lenData*1.0)\n",
    "        #Reached a peak\n",
    "        if (k > 0 and newData[k-1] * newData[k] < 0):\n",
    "            peaks.append(max(newData[lastIntercept:k]))\n",
    "            lastIntercept = k\n",
    "        if len(peaks) >= numPeaks:\n",
    "            break\n",
    "    return peaks\n"
   ]
  },
  {
   "cell_type": "code",
   "execution_count": 137,
   "metadata": {
    "collapsed": false,
    "run_control": {
     "breakpoint": false
    }
   },
   "outputs": [],
   "source": [
    "def getBeatData(fileData):\n",
    "    analysisWindowSize = 512\n",
    "    analysisWindowsPerTextureWindow = 43\n",
    "    textureWindowSize = analysisWindowsPerTextureWindow*analysisWindowSize\n",
    "    fixedFrames = fileData.frames(textureWindowSize)\n",
    "    numFrames = len(fixedFrames)-1\n",
    "    audioData = np.zeros(shape = (numFrames ,19))\n",
    "\n",
    "    print len(audioData)\n",
    "    adIndexCount = 0\n",
    "    #For Each Texture Window\n",
    "    for x in range(0,numFrames-1):\n",
    "        currCol = 0\n",
    "        textureWindow = fileData[x*textureWindowSize:(x+1)*textureWindowSize]\n",
    "        textureWindow = discreteWaveletTransform(textureWindow)\n",
    "        \n",
    "        #Full Wave Rectification\n",
    "        textureWindow = np.absolute(textureWindow)\n",
    "        \n",
    "        audioData[x][currCol] = np.sum(textureWindow)\n",
    "        currCol+=1\n",
    "        \n",
    "        #Low-Pass Filtering\n",
    "        textureWindow = lowPassFilter(textureWindow)\n",
    "        audioData[x][currCol] = np.sum(textureWindow)\n",
    "        currCol+=1\n",
    "        #DownSampling\n",
    "        textureWindow = downSample(textureWindow)\n",
    "        audioData[x][currCol] = np.sum(textureWindow)\n",
    "        currCol+=1\n",
    "        #Mean Removal\n",
    "        textureWindow = meanRemoval(textureWindow)\n",
    "        audioData[x][currCol] = np.sum(textureWindow)\n",
    "        currCol+=1\n",
    "        \n",
    "    return audioData\n",
    "\n"
   ]
  }
 ],
 "metadata": {
  "kernelspec": {
   "display_name": "Python 2",
   "language": "python",
   "name": "python2"
  },
  "language_info": {
   "codemirror_mode": {
    "name": "ipython",
    "version": 2
   },
   "file_extension": ".py",
   "mimetype": "text/x-python",
   "name": "python",
   "nbconvert_exporter": "python",
   "pygments_lexer": "ipython2",
   "version": "2.7.11"
  }
 },
 "nbformat": 4,
 "nbformat_minor": 0
}
